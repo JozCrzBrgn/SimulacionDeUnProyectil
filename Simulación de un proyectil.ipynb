{
 "cells": [
  {
   "cell_type": "markdown",
   "metadata": {},
   "source": [
    "<h1><b>Simulación del tiro de un proyectil.</b></h1>"
   ]
  },
  {
   "cell_type": "markdown",
   "metadata": {},
   "source": [
    "<img src=\"/Img/canon2.png\" width=300>"
   ]
  },
  {
   "cell_type": "markdown",
   "metadata": {},
   "source": [
    "<i> Sin tener en cuenta la resistencia del aire, las ecuaciones del movimiento de un proyectil son: </i>"
   ]
  },
  {
   "cell_type": "markdown",
   "metadata": {},
   "source": [
    "$$ x=V_{o}cos\\left ( \\theta  \\right )t $$\n",
    "$$y = h_{o}+V_{o}sen\\left ( \\theta \\right )t-\\frac{1}{2}gt^{2}$$"
   ]
  },
  {
   "cell_type": "markdown",
   "metadata": {},
   "source": [
    "<i>Donde:</i>\n",
    "<ul>\n",
    "<li>𝜃: Es el ángulo de tiro.</li>\n",
    "<li>𝑉𝑜: Es la velocidad inicial.</li>\n",
    "<li>ℎ𝑜: Es la altura donde esta el proyectil.</li>\n",
    "<li>𝑡: Es el tiempo.</li>\n",
    "</ul>"
   ]
  },
  {
   "cell_type": "markdown",
   "metadata": {},
   "source": [
    "### Librerias."
   ]
  },
  {
   "cell_type": "code",
   "execution_count": 1,
   "metadata": {},
   "outputs": [],
   "source": [
    "from math import cos, sin, pi\n",
    "from numpy import linspace\n",
    "import matplotlib.pyplot as plt"
   ]
  },
  {
   "cell_type": "markdown",
   "metadata": {},
   "source": [
    "### Declaramos variables:"
   ]
  },
  {
   "cell_type": "code",
   "execution_count": 2,
   "metadata": {},
   "outputs": [],
   "source": [
    "𝜃 = 60   # Ángulo de tiro, grados\n",
    "v0 = 200 # Velocidad inicial, m/s\n",
    "yo = 10  # Altura inicial, metros\n",
    "g = 9.81 # Aceleración de la gravedad, m/s2"
   ]
  },
  {
   "cell_type": "markdown",
   "metadata": {},
   "source": [
    "### Creamos una lista que representará nuestro tiempo:"
   ]
  },
  {
   "cell_type": "code",
   "execution_count": 3,
   "metadata": {},
   "outputs": [],
   "source": [
    "Iteraciones_total = 1000 # Número de iteraciones\n",
    "Iteraciones = linspace(0, Iteraciones_total, 2 * Iteraciones_total)"
   ]
  },
  {
   "cell_type": "markdown",
   "metadata": {},
   "source": [
    "### Usamos la función lambda para crear las ecuaciones de posición del proyectil:"
   ]
  },
  {
   "cell_type": "code",
   "execution_count": 4,
   "metadata": {},
   "outputs": [],
   "source": [
    "Y = lambda t: -(0.5 * g * (t ** 2)) + (v0 * sin(𝜃 * pi / 180) * t) + yo\n",
    "X = lambda t: (v0 * cos(𝜃 * pi / 180) * t)"
   ]
  },
  {
   "cell_type": "markdown",
   "metadata": {},
   "source": [
    "### Creamos una lista de las coordenadas de nuestro proyectil para valores de altura positivos (hasta que el proyectil impacta con el suelo):"
   ]
  },
  {
   "cell_type": "code",
   "execution_count": 5,
   "metadata": {},
   "outputs": [],
   "source": [
    "y = [Y(t) for t in Iteraciones if Y(t) > 0]\n",
    "x = [X(t) for t in Iteraciones if Y(t) > 0]"
   ]
  },
  {
   "cell_type": "markdown",
   "metadata": {},
   "source": [
    "### Graficamos los resultados:"
   ]
  },
  {
   "cell_type": "code",
   "execution_count": 6,
   "metadata": {},
   "outputs": [
    {
     "data": {
      "image/png": "[encoded data removed]",
      "text/plain": [
       "<Figure size 432x288 with 1 Axes>"
      ]
     },
     "metadata": {
      "needs_background": "light"
     },
     "output_type": "display_data"
    }
   ],
   "source": [
    "# Activamos el modo interactivo:\n",
    "plt.ion()\n",
    "\n",
    "# Configuramos el plot:\n",
    "fig = plt.figure()\n",
    "ax = fig.add_subplot(111)\n",
    "line, = ax.plot(x, y, 'b+')\n",
    "\n",
    "# Calculamos el ancho y la altura maxima de nuestro plot y lo limitamos:\n",
    "x_max = max(max(x),max(y))\n",
    "x_min = min(min(x),min(y))\n",
    "ax.set_xlim(x_min, x_max)\n",
    "ax.set_ylim(x_min, x_max)\n",
    "\n",
    "# Usamos una linea recta para dibujar el piso:\n",
    "ax.axhline(y=0, linewidth=20, color='gray', linestyle=\"-\")\n",
    "\n",
    "# Posicion del cañon:\n",
    "plt.plot(0, yo, 'ko', markersize=50.0)\n",
    "\n",
    "for i in range(len(y)):\n",
    "    # Simulamos el proyectil:\n",
    "    line.set_xdata(x[:i])\n",
    "    line.set_ydata(y[:i])\n",
    "    fig.canvas.draw()\n",
    "    fig.canvas.flush_events()\n",
    "\n",
    "    if i == len(y)-1:\n",
    "        # Ponemos titulo, etiquetas en Y y en X:\n",
    "        plt.title('SIMULACIÓN DE UN PROYECTIL')\n",
    "        plt.xlabel(f'Distancia de impacto: {round(max(x),2)} metros', weight='bold',color='k')\n",
    "        plt.ylabel(f'Altura máxima alcanzada: {round(max(y), 2)} metros',weight='bold', color='k')\n",
    "        # Posicion de la explosión:\n",
    "        plt.plot(x[-1], y[-1], 'r*', markersize=100.0)\n"
   ]
  },
  {
   "cell_type": "code",
   "execution_count": null,
   "metadata": {},
   "outputs": [],
   "source": []
  }
 ],
 "metadata": {
  "kernelspec": {
   "display_name": "Python 3",
   "language": "python",
   "name": "python3"
  },
  "language_info": {
   "codemirror_mode": {
    "name": "ipython",
    "version": 3
   },
   "file_extension": ".py",
   "mimetype": "text/x-python",
   "name": "python",
   "nbconvert_exporter": "python",
   "pygments_lexer": "ipython3",
   "version": "3.7.6"
  }
 },
 "nbformat": 4,
 "nbformat_minor": 4
}
